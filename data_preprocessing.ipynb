{
 "cells": [
  {
   "cell_type": "code",
   "execution_count": 6,
   "metadata": {},
   "outputs": [],
   "source": [
    "import pandas as pd\n",
    "import numpy as np\n",
    "import matplotlib.pyplot as plt\n",
    "import os\n",
    "from tqdm import tqdm\n",
    "from librosa import display\n",
    "import librosa\n",
    "\n",
    "from sklearn.metrics import f1_score\n",
    "from sklearn.model_selection import train_test_split\n",
    "\n"
   ]
  },
  {
   "cell_type": "code",
   "execution_count": 7,
   "metadata": {},
   "outputs": [],
   "source": [
    "x_train = []\n",
    "x_test = []\n",
    "y_train = []\n",
    "y_test = []\n",
    "\n",
    "path = \"UrbanSound8K/audio/car_horn/car-\"\n",
    "for i in range(419):\n",
    "    file_name = path+str(i)+\".wav\"\n",
    "    #print(file_name)\n",
    "    y, sr = librosa.load(file_name)\n",
    "    mfccs = np.mean(librosa.feature.mfcc(y, sr, n_mfcc=40).T,axis=0)\n",
    "    #print(mfccs.shape,mfccs.max(),mfccs.min())\n",
    "    label = 0\n",
    "    if(i<336 or i>415):\n",
    "        x_train.append(mfccs)\n",
    "        y_train.append(label)\n",
    "    else:\n",
    "        x_test.append(mfccs)\n",
    "        y_test.append(label)\n",
    "        \n",
    "\n",
    "        \n",
    "path = \"UrbanSound8K/audio/dog_bark/dog-\"\n",
    "for i in range(467):\n",
    "    file_name = path+str(i)+\".wav\"\n",
    "    #print(file_name)\n",
    "    y, sr = librosa.load(file_name)\n",
    "    mfccs = np.mean(librosa.feature.mfcc(y, sr, n_mfcc=40).T,axis=0)\n",
    "    #print(mfccs.shape,mfccs.max(),mfccs.min())\n",
    "    label = 1\n",
    "    if(i<377):\n",
    "        x_train.append(mfccs)\n",
    "        y_train.append(label)\n",
    "    else:\n",
    "        x_test.append(mfccs)\n",
    "        y_test.append(label)\n",
    "        \n",
    "path = \"UrbanSound8K/audio/fire_alarm/fire-\"\n",
    "for i in range(202):\n",
    "    file_name = path+str(i)+\".wav\"\n",
    "    #print(file_name)\n",
    "    y, sr = librosa.load(file_name)\n",
    "    mfccs = np.mean(librosa.feature.mfcc(y, sr, n_mfcc=40).T,axis=0)\n",
    "    #print(mfccs.shape,mfccs.max(),mfccs.min())\n",
    "    label = 2\n",
    "    if(i<162):\n",
    "        x_train.append(mfccs)\n",
    "        y_train.append(label)\n",
    "    else:\n",
    "        x_test.append(mfccs)\n",
    "        y_test.append(label)"
   ]
  },
  {
   "cell_type": "code",
   "execution_count": 18,
   "metadata": {},
   "outputs": [],
   "source": [
    "x_undefined = []\n",
    "y_undefined = []\n",
    "path = \"UrbanSound8K/audio/undefined5/train/undefined\"\n",
    "for i in range(400):\n",
    "    file_name = path+str(i)+\".wav\"\n",
    "    #print(file_name)\n",
    "    y, sr = librosa.load(file_name)\n",
    "    mfccs = np.mean(librosa.feature.mfcc(y, sr, n_mfcc=40).T,axis=0)\n",
    "    #print(mfccs.shape,mfccs.max(),mfccs.min())\n",
    "    label = 3\n",
    "    x_train.append(mfccs)\n",
    "    y_train.append(label)\n",
    "    #x_undefined.append(mfccs)\n",
    "    #y_undefined.append(label)\n",
    "    if(i<320):\n",
    "        x_train.append(mfccs)\n",
    "        y_train.append(label)\n",
    "    else:\n",
    "        x_test.append(mfccs)\n",
    "        y_test.append(label)\n",
    "    "
   ]
  },
  {
   "cell_type": "code",
   "execution_count": 8,
   "metadata": {},
   "outputs": [
    {
     "data": {
      "text/plain": [
       "878"
      ]
     },
     "execution_count": 8,
     "metadata": {},
     "output_type": "execute_result"
    }
   ],
   "source": [
    "len(x_train)"
   ]
  },
  {
   "cell_type": "code",
   "execution_count": 9,
   "metadata": {},
   "outputs": [
    {
     "data": {
      "text/plain": [
       "((878, 40), (210, 40), (878,), (210,))"
      ]
     },
     "execution_count": 9,
     "metadata": {},
     "output_type": "execute_result"
    }
   ],
   "source": [
    "x_train = np.array(x_train)\n",
    "x_test = np.array(x_test)\n",
    "y_train = np.array(y_train)\n",
    "y_test = np.array(y_test)\n",
    "x_train.shape,x_test.shape,y_train.shape,y_test.shape"
   ]
  },
  {
   "cell_type": "code",
   "execution_count": 10,
   "metadata": {},
   "outputs": [],
   "source": [
    "#saving the data numpy arrays\n",
    "np.savetxt(\"train_data.csv\", x_train, delimiter=\",\")\n",
    "np.savetxt(\"test_data.csv\",x_test,delimiter=\",\")\n",
    "np.savetxt(\"train_labels.csv\",y_train,delimiter=\",\")\n",
    "np.savetxt(\"test_labels.csv\",y_test,delimiter=\",\")"
   ]
  },
  {
   "cell_type": "code",
   "execution_count": 15,
   "metadata": {},
   "outputs": [],
   "source": [
    "np.savetxt(\"undefined4_data.csv\", x_undefined, delimiter=\",\")\n",
    "np.savetxt(\"undefined4_labels.csv\",y_undefined,delimiter=\",\")"
   ]
  },
  {
   "cell_type": "code",
   "execution_count": null,
   "metadata": {},
   "outputs": [],
   "source": []
  }
 ],
 "metadata": {
  "kernelspec": {
   "display_name": "Python 3",
   "language": "python",
   "name": "python3"
  },
  "language_info": {
   "codemirror_mode": {
    "name": "ipython",
    "version": 3
   },
   "file_extension": ".py",
   "mimetype": "text/x-python",
   "name": "python",
   "nbconvert_exporter": "python",
   "pygments_lexer": "ipython3",
   "version": "3.8.3"
  }
 },
 "nbformat": 4,
 "nbformat_minor": 4
}
